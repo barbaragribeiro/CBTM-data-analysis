{
 "cells": [
  {
   "cell_type": "code",
   "execution_count": null,
   "metadata": {},
   "outputs": [],
   "source": [
    "from selenium import webdriver\n",
    "from selenium.webdriver.common.keys import Keys\n",
    "from selenium.webdriver import ActionChains\n",
    "from selenium.webdriver.support.ui import WebDriverWait\n",
    "from selenium.webdriver.support import expected_conditions\n",
    "from selenium.webdriver.common.by import By\n",
    "import pandas as pd\n",
    "import numpy as np"
   ]
  },
  {
   "cell_type": "code",
   "execution_count": null,
   "metadata": {},
   "outputs": [],
   "source": [
    "url = \"https://app.cbtm.org.br/UI/Site/RatingResultado\""
   ]
  },
  {
   "cell_type": "code",
   "execution_count": null,
   "metadata": {},
   "outputs": [],
   "source": [
    "firefox = webdriver.Firefox()\n",
    "firefox.get(url)"
   ]
  },
  {
   "cell_type": "code",
   "execution_count": null,
   "metadata": {},
   "outputs": [],
   "source": [
    "ratingElem = firefox.find_element_by_xpath('//*[@id=\"cmbRating\"]')\n",
    "ratingElem.click()\n",
    "#ratingList = firefox.find_elements_by_xpath('//*[@id=\"cmbRating_DDD_PW-1\"]')"
   ]
  },
  {
   "cell_type": "code",
   "execution_count": null,
   "metadata": {},
   "outputs": [],
   "source": [
    "#Corrigir bug: Nâo precisar mover o cursor na tabela para pegar todos os rating ao invés de só o \"H\""
   ]
  },
  {
   "cell_type": "code",
   "execution_count": null,
   "metadata": {},
   "outputs": [],
   "source": [
    "ratingList = firefox.find_element_by_xpath('//*[@id=\"cmbRating_DDD_PW-1\"]')\n",
    "ratingElements = ratingList.find_elements_by_class_name('dxeListBoxItem_MetropolisBlue')\n",
    "ratingIDs = []\n",
    "ratingNames = []\n",
    "for rating in ratingElements:\n",
    "    ratingIDs.append(rating.get_attribute('id'))\n",
    "    ratingNames.append(rating.text)"
   ]
  },
  {
   "cell_type": "code",
   "execution_count": null,
   "metadata": {},
   "outputs": [],
   "source": [
    "dfs = []\n",
    "columnNames = ['Ranking', 'Pontos', 'Nome', 'Clube', 'ID detalhes']\n",
    "for _id in ratingIDs:\n",
    "    ratingList = firefox.find_element_by_xpath('//*[@id=\"cmbRating_DDD_PW-1\"]')\n",
    "    firefox.find_element_by_id(_id).click()\n",
    "    table = WebDriverWait(firefox, 60).until(expected_conditions.presence_of_element_located((By.XPATH, '//*[@id=\"grid_DXMainTable\"]')))\n",
    "    #table = firefox.find_element_by_xpath('//*[@id=\"grid_DXMainTable\"]')\n",
    "    data = np.frompyfunc(lambda x:x.text, 1, 1)(table.find_elements_by_tag_name('span'))\n",
    "    dataReshape = data.reshape(-1,5)\n",
    "    df = pd.DataFrame(dataReshape)\n",
    "    df.columns = columnNames\n",
    "    dfs.append(df)\n",
    "    ratingElem = firefox.find_element_by_xpath('//*[@id=\"cmbRating\"]')\n",
    "    ratingElem.click()"
   ]
  },
  {
   "cell_type": "code",
   "execution_count": null,
   "metadata": {},
   "outputs": [],
   "source": [
    "nRatFem = 10\n",
    "nRatMasc = 14\n",
    "\n",
    "for i in range(nRatFem):\n",
    "    dfs[i]['Rating'] = chr(i + ord('A'))\n",
    "    dfs[i]['Categoria'] = 'F'\n",
    "for i in range(nRatFem, nRatFem+nRatMasc):\n",
    "    dfs[i]['Rating'] = chr(i - nRatFem + ord('A'))\n",
    "    dfs[i]['Categoria'] = 'M'\n",
    "    if (i >= 20):\n",
    "        dfs[i]['Rating'] = chr(i + 1 - nRatFem + ord('A')) #Sem rating K\n",
    "        \n",
    "df_unico = pd.concat(dfs, ignore_index = True)\n",
    "df_unico['Pontos'] = df_unico['Pontos'].str.replace(r'\\D', '').astype(int)\n",
    "df_unico['Ranking'] = df_unico['Ranking'].str.replace(r'\\D', '').astype(int)"
   ]
  },
  {
   "cell_type": "code",
   "execution_count": null,
   "metadata": {},
   "outputs": [],
   "source": [
    "df_unico.to_csv('rating_CBTM.csv')"
   ]
  },
  {
   "cell_type": "code",
   "execution_count": null,
   "metadata": {},
   "outputs": [],
   "source": []
  }
 ],
 "metadata": {
  "kernelspec": {
   "display_name": "Python 3.7 py37",
   "language": "python",
   "name": "py37"
  },
  "language_info": {
   "codemirror_mode": {
    "name": "ipython",
    "version": 3
   },
   "file_extension": ".py",
   "mimetype": "text/x-python",
   "name": "python",
   "nbconvert_exporter": "python",
   "pygments_lexer": "ipython3",
   "version": "3.7.7"
  }
 },
 "nbformat": 4,
 "nbformat_minor": 2
}

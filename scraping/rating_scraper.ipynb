{
 "cells": [
  {
   "cell_type": "code",
   "execution_count": null,
   "metadata": {},
   "outputs": [],
   "source": [
    "#Selenium had to be used to collect the data from the rating because the website is dynamically rendered: you \n",
    "#have to manually select the rating you want from a menu and then you get that specific table rendered\n",
    "#with no redirection. "
   ]
  },
  {
   "cell_type": "code",
   "execution_count": 7,
   "metadata": {},
   "outputs": [],
   "source": [
    "from selenium import webdriver\n",
    "from selenium.webdriver.common.keys import Keys\n",
    "from selenium.webdriver import ActionChains\n",
    "from selenium.webdriver.support.ui import WebDriverWait\n",
    "from selenium.webdriver.support import expected_conditions\n",
    "from selenium.webdriver.common.by import By\n",
    "import pandas as pd\n",
    "import numpy as np\n",
    "import time"
   ]
  },
  {
   "cell_type": "code",
   "execution_count": 8,
   "metadata": {},
   "outputs": [],
   "source": [
    "url = \"https://app.cbtm.org.br/UI/Site/RatingResultado\""
   ]
  },
  {
   "cell_type": "code",
   "execution_count": 9,
   "metadata": {},
   "outputs": [],
   "source": [
    "firefox = webdriver.Firefox()\n",
    "firefox.get(url)"
   ]
  },
  {
   "cell_type": "code",
   "execution_count": 10,
   "metadata": {},
   "outputs": [],
   "source": [
    "ratingElem = firefox.find_element_by_xpath('//*[@id=\"cmbRating\"]')\n",
    "ratingElem.click()"
   ]
  },
  {
   "cell_type": "code",
   "execution_count": 11,
   "metadata": {},
   "outputs": [],
   "source": [
    "#Corrigir bug: Nâo precisar mover o cursor na tabela para pegar todos os rating ao invés de só o \"H\""
   ]
  },
  {
   "cell_type": "code",
   "execution_count": 12,
   "metadata": {},
   "outputs": [],
   "source": [
    "ratingList = firefox.find_element_by_xpath('//*[@id=\"cmbRating_DDD_PW-1\"]')\n",
    "ratingElements = ratingList.find_elements_by_class_name('dxeListBoxItem_MetropolisBlue')\n",
    "ratingIDs = []\n",
    "ratingNames = []\n",
    "for rating in ratingElements:\n",
    "    ratingIDs.append(rating.get_attribute('id'))\n",
    "    ratingNames.append(rating.text)"
   ]
  },
  {
   "cell_type": "code",
   "execution_count": 13,
   "metadata": {},
   "outputs": [],
   "source": [
    "dfs = []\n",
    "columnNames = ['Colocação', 'Pontos', 'Nome', 'Clube', 'URL']\n",
    "for _id in ratingIDs:\n",
    "    ratingList = firefox.find_element_by_xpath('//*[@id=\"cmbRating_DDD_PW-1\"]')\n",
    "    ratingList.find_element_by_id(_id).click()\n",
    "    time.sleep(20)\n",
    "    table = WebDriverWait(firefox, 60).until(expected_conditions.presence_of_element_located((By.XPATH, '//*[@id=\"grid_DXMainTable\"]')))\n",
    "    \n",
    "    data = np.frompyfunc(lambda x:x.text, 1, 1)(table.find_elements_by_tag_name('span'))\n",
    "    urls = np.frompyfunc(lambda x: x.get_attribute('href'), 1, 1)(table.find_elements_by_class_name('dxeHyperlink_Metropolis'))\n",
    "    dataReshape = data.reshape(-1,5)\n",
    "    dataReshape[:,4] = urls\n",
    "    df = pd.DataFrame(dataReshape)\n",
    "    df.columns = columnNames\n",
    "    dfs.append(df)\n",
    "    \n",
    "    ratingElem = firefox.find_element_by_xpath('//*[@id=\"cmbRating\"]')\n",
    "    ratingElem.click()"
   ]
  },
  {
   "cell_type": "code",
   "execution_count": 22,
   "metadata": {},
   "outputs": [],
   "source": [
    "nRatFem = 10\n",
    "nRatMasc = 14\n",
    "\n",
    "for i in range(nRatFem):\n",
    "    dfs[i]['Rating'] = chr(i + ord('A'))\n",
    "    dfs[i]['Categoria'] = 'F'\n",
    "for i in range(nRatFem, nRatFem+nRatMasc):\n",
    "    dfs[i]['Rating'] = chr(i - nRatFem + ord('A'))\n",
    "    dfs[i]['Categoria'] = 'M'\n",
    "    if (i >= 20):\n",
    "        dfs[i]['Rating'] = chr(i + 1 - nRatFem + ord('A')) #Sem rating K\n",
    "        \n",
    "df_unico = pd.concat(dfs, ignore_index = True)\n",
    "df_unico['Pontos'] = df_unico['Pontos'].str.replace(r'\\D', '').astype(int)\n",
    "df_unico['Colocação'] = df_unico['Colocação'].str.replace(r'\\D', '').astype(int)"
   ]
  },
  {
   "cell_type": "code",
   "execution_count": 28,
   "metadata": {},
   "outputs": [],
   "source": [
    "df_unico.to_csv('rating.csv', index=False)"
   ]
  },
  {
   "cell_type": "code",
   "execution_count": null,
   "metadata": {},
   "outputs": [],
   "source": []
  }
 ],
 "metadata": {
  "kernelspec": {
   "display_name": "Python 3.7 py37",
   "language": "python",
   "name": "py37"
  },
  "language_info": {
   "codemirror_mode": {
    "name": "ipython",
    "version": 3
   },
   "file_extension": ".py",
   "mimetype": "text/x-python",
   "name": "python",
   "nbconvert_exporter": "python",
   "pygments_lexer": "ipython3",
   "version": "3.7.7"
  }
 },
 "nbformat": 4,
 "nbformat_minor": 2
}
